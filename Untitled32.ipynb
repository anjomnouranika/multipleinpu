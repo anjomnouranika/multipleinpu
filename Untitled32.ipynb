{
  "nbformat": 4,
  "nbformat_minor": 0,
  "metadata": {
    "colab": {
      "name": "Untitled32.ipynb",
      "provenance": [],
      "authorship_tag": "ABX9TyPwsId9UW1YJDwb+bTH0wRQ",
      "include_colab_link": true
    },
    "kernelspec": {
      "name": "python3",
      "display_name": "Python 3"
    }
  },
  "cells": [
    {
      "cell_type": "markdown",
      "metadata": {
        "id": "view-in-github",
        "colab_type": "text"
      },
      "source": [
        "<a href=\"https://colab.research.google.com/github/anjomnouranika/multipleinpu/blob/master/Untitled32.ipynb\" target=\"_parent\"><img src=\"https://colab.research.google.com/assets/colab-badge.svg\" alt=\"Open In Colab\"/></a>"
      ]
    },
    {
      "cell_type": "code",
      "metadata": {
        "id": "d_YavEQWAoCL",
        "colab_type": "code",
        "colab": {
          "base_uri": "https://localhost:8080/",
          "height": 51
        },
        "outputId": "983fd2eb-083a-410b-94c1-3bdf339ae552"
      },
      "source": [
        "x, y = input(\"Enter a two value: \").split() \n",
        "#print(\"Number of boys: \", x) \n",
        "#print(\"Number of girls: \", y) \n",
        "print(x,y) "
      ],
      "execution_count": 5,
      "outputs": [
        {
          "output_type": "stream",
          "text": [
            "Enter a two value: 1 2\n",
            "1 2\n"
          ],
          "name": "stdout"
        }
      ]
    }
  ]
}